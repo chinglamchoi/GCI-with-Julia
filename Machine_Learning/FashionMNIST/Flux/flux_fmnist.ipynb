{
 "cells": [
  {
   "cell_type": "markdown",
   "metadata": {},
   "source": [
    "## Add the Fashion MNIST model to the Flux model-zoo ##\n",
    "\n",
    "1. Write Flux model\n",
    "2. Benchmark it against Pytorch, Tensorflow equivalents"
   ]
  },
  {
   "cell_type": "markdown",
   "metadata": {},
   "source": [
    "### 1. Import Libraries ###\n",
    "Note: Due to compatability issues on my laptop, I cannot properly install CUDA (hence Cudnn) and cannot load the arrays to my GPU :("
   ]
  },
  {
   "cell_type": "code",
   "execution_count": 1,
   "metadata": {},
   "outputs": [],
   "source": [
    "using MLDatasets\n",
    "using Flux, Statistics\n",
    "using Flux: onehotbatch, onecold, crossentropy, throttle\n",
    "using Base.Iterators: repeated, partition\n",
    "using Printf, BSON"
   ]
  },
  {
   "cell_type": "markdown",
   "metadata": {},
   "source": [
    "### 2. Data Preparation ###\n",
    "I load the train and test sets of FashionMNIST to accessible formats, and define a function to partition data into mini-batches."
   ]
  },
  {
   "cell_type": "code",
   "execution_count": 2,
   "metadata": {},
   "outputs": [
    {
     "data": {
      "text/plain": [
       "mb (generic function with 1 method)"
      ]
     },
     "execution_count": 2,
     "metadata": {},
     "output_type": "execute_result"
    }
   ],
   "source": [
    "train_x, train_y = FashionMNIST.traindata()\n",
    "test_x, test_y = FashionMNIST.testdata()\n",
    "train_x, test_x = [train_x[:, :, i] for i in 1:size(train_x,3)], [test_x[:, :, i] for i in 1:size(test_x,3)]\n",
    "\n",
    "\n",
    "# Mini-batch function:\n",
    "function mb(img, label, indexx) \n",
    "    mb_x = Array{Float32}(undef, size(img[1])..., 1, length(indexx)) # placeholder\n",
    "    for i in 1:length(indexx)\n",
    "        mb_x[:, :, :, i] = Float32.(img[indexx[i]]) # Asigns images into batches of 64\n",
    "    end\n",
    "    # This encodes labels into one-hot vector representation\n",
    "    mb_y = onehotbatch(label[indexx], 0:9)\n",
    "    return (mb_x, mb_y)\n",
    "end"
   ]
  },
  {
   "cell_type": "markdown",
   "metadata": {},
   "source": [
    "### 3. Define the Model ###\n",
    "I construct my ConvNet and define Mean Squared Error as the cost function."
   ]
  },
  {
   "cell_type": "code",
   "execution_count": 3,
   "metadata": {},
   "outputs": [
    {
     "data": {
      "text/plain": [
       "loss (generic function with 1 method)"
      ]
     },
     "execution_count": 3,
     "metadata": {},
     "output_type": "execute_result"
    }
   ],
   "source": [
    "ConvNet = Chain(\n",
    "    # Input: (28, 28, 1, 64)\n",
    "    \n",
    "    # After Conv1: (14, 14, 16, 64)\n",
    "    Conv((3, 3), 1=>16, pad=(1,1), relu),\n",
    "    MaxPool((2,2), stride=(2,2)),\n",
    "\n",
    "    # After Conv2: (7, 7, 32, 64)\n",
    "    Conv((3, 3), 16=>32, pad=(1,1), relu),\n",
    "    MaxPool((2,2), stride=(2,2)),\n",
    "\n",
    "    # After Conv3: (3, 3, 64, 64)\n",
    "    Conv((3, 3), 32=>64, pad=(1,1), relu),\n",
    "    MaxPool((2,2), stride=(2,2)),\n",
    "\n",
    "    # Flatten to (64, 576)\n",
    "    x -> reshape(x, :, size(x, 4)),\n",
    "    Dense(576, 72),\n",
    "    x -> relu.(x),\n",
    "    Dense(72, 10),\n",
    "    x -> relu.(x),\n",
    "    \n",
    "    # Get probability predictions, corresponding to each class\n",
    "    softmax,\n",
    ")\n",
    "\n",
    "# MSE Loss\n",
    "function loss(x, y)\n",
    "    x_aug = x .+ 0.1f0*randn(eltype(x), size(x)) \n",
    "    # Augmenting x helps increase inter-class variance (decision boundary) >> improves model discriminativeness\n",
    "    y_hat = ConvNet(x_aug)\n",
    "    return crossentropy(y_hat, y)\n",
    "end"
   ]
  },
  {
   "cell_type": "markdown",
   "metadata": {},
   "source": [
    "### 4. Define Hyperparameters ###\n",
    "I set the mini-batch size as 64, learning-rate as 0.001, epoch number as 200; and use the Adam optimiser."
   ]
  },
  {
   "cell_type": "code",
   "execution_count": 4,
   "metadata": {},
   "outputs": [
    {
     "data": {
      "text/plain": [
       "(0.0, 0, 100, 0.95)"
      ]
     },
     "execution_count": 4,
     "metadata": {},
     "output_type": "execute_result"
    }
   ],
   "source": [
    "mb_size = 64\n",
    "mb_idxs = partition(1:length(train_x), mb_size)\n",
    "trainset = [mb(train_x, train_y, i) for i in mb_idxs]\n",
    "testset = mb(test_x, test_y, 1:length(test_x))\n",
    "deleteat!(trainset, 938) # dims error\n",
    "\n",
    "# pass data to GPU for acceleration\n",
    "#trainset, testset, ConvNet = gpu.(trainset), gpu.(testset), gpu(ConvNet)\n",
    "\n",
    "accuracy(x, y) = mean(onecold(ConvNet(x)) .== onecold(y))\n",
    "optimiser = ADAM(0.001)\n",
    "best_acc, last_improvement, epoch_num, threshold = 0.0, 0, 100, 0.95"
   ]
  },
  {
   "cell_type": "code",
   "execution_count": 5,
   "metadata": {},
   "outputs": [
    {
     "data": {
      "text/plain": [
       "10×64 Array{Float32,2}:\n",
       " 0.105307   0.108713   0.102776   …  0.108729   0.102043   0.10187  \n",
       " 0.107922   0.101713   0.100319      0.104436   0.109957   0.10227  \n",
       " 0.0980129  0.0986968  0.0995453     0.0983543  0.0976855  0.0992966\n",
       " 0.0980129  0.0986968  0.0995453     0.0983543  0.0976855  0.0992966\n",
       " 0.0980129  0.0986968  0.0995453     0.0983543  0.0976855  0.0992966\n",
       " 0.0980129  0.0986968  0.0995453  …  0.0983543  0.101364   0.0996767\n",
       " 0.0980129  0.0986968  0.0995453     0.0983543  0.0976855  0.0992966\n",
       " 0.100681   0.0986968  0.100088      0.0983543  0.100523   0.100404 \n",
       " 0.0980129  0.0986968  0.0995453     0.0983543  0.0976855  0.0992966\n",
       " 0.0980129  0.0986968  0.0995453     0.0983543  0.0976855  0.0992966"
      ]
     },
     "execution_count": 5,
     "metadata": {},
     "output_type": "execute_result"
    }
   ],
   "source": [
    "# Sanity Check: (classes=10, minibatch=64) array\n",
    "ConvNet(trainset[1][1])"
   ]
  },
  {
   "cell_type": "markdown",
   "metadata": {},
   "source": [
    "### 5. Begin Training & Testing ###"
   ]
  },
  {
   "cell_type": "code",
   "execution_count": 6,
   "metadata": {
    "scrolled": true
   },
   "outputs": [
    {
     "name": "stdout",
     "output_type": "stream",
     "text": [
      "96.1566225\n"
     ]
    },
    {
     "name": "stderr",
     "output_type": "stream",
     "text": [
      "┌ Info: [1]: Test accuracy: 0.6944\n",
      "└ @ Main In[6]:14\n",
      "┌ Info:  -> New best accuracy! Saving model out to fmnist_flux.bson\n",
      "└ @ Main In[6]:23\n"
     ]
    },
    {
     "name": "stdout",
     "output_type": "stream",
     "text": [
      "183.6960653\n"
     ]
    },
    {
     "name": "stderr",
     "output_type": "stream",
     "text": [
      "┌ Info: [2]: Test accuracy: 0.7135\n",
      "└ @ Main In[6]:14\n",
      "┌ Info:  -> New best accuracy! Saving model out to fmnist_flux.bson\n",
      "└ @ Main In[6]:23\n"
     ]
    },
    {
     "name": "stdout",
     "output_type": "stream",
     "text": [
      "270.4484071\n"
     ]
    },
    {
     "name": "stderr",
     "output_type": "stream",
     "text": [
      "┌ Info: [3]: Test accuracy: 0.7172\n",
      "└ @ Main In[6]:14\n",
      "┌ Info:  -> New best accuracy! Saving model out to fmnist_flux.bson\n",
      "└ @ Main In[6]:23\n"
     ]
    },
    {
     "name": "stdout",
     "output_type": "stream",
     "text": [
      "356.0775229\n"
     ]
    },
    {
     "name": "stderr",
     "output_type": "stream",
     "text": [
      "┌ Info: [4]: Test accuracy: 0.7200\n",
      "└ @ Main In[6]:14\n",
      "┌ Info:  -> New best accuracy! Saving model out to fmnist_flux.bson\n",
      "└ @ Main In[6]:23\n"
     ]
    },
    {
     "name": "stdout",
     "output_type": "stream",
     "text": [
      "440.533314201\n"
     ]
    },
    {
     "name": "stderr",
     "output_type": "stream",
     "text": [
      "┌ Info: [5]: Test accuracy: 0.7119\n",
      "└ @ Main In[6]:14\n"
     ]
    },
    {
     "name": "stdout",
     "output_type": "stream",
     "text": [
      "524.9961107\n"
     ]
    },
    {
     "name": "stderr",
     "output_type": "stream",
     "text": [
      "┌ Info: [6]: Test accuracy: 0.7162\n",
      "└ @ Main In[6]:14\n"
     ]
    },
    {
     "name": "stdout",
     "output_type": "stream",
     "text": [
      "609.4269898\n"
     ]
    },
    {
     "name": "stderr",
     "output_type": "stream",
     "text": [
      "┌ Info: [7]: Test accuracy: 0.7201\n",
      "└ @ Main In[6]:14\n",
      "┌ Info:  -> New best accuracy! Saving model out to fmnist_flux.bson\n",
      "└ @ Main In[6]:23\n"
     ]
    },
    {
     "name": "stdout",
     "output_type": "stream",
     "text": [
      "694.5362108\n"
     ]
    },
    {
     "name": "stderr",
     "output_type": "stream",
     "text": [
      "┌ Info: [8]: Test accuracy: 0.7182\n",
      "└ @ Main In[6]:14\n"
     ]
    },
    {
     "name": "stdout",
     "output_type": "stream",
     "text": [
      "779.610495601\n"
     ]
    },
    {
     "name": "stderr",
     "output_type": "stream",
     "text": [
      "┌ Info: [9]: Test accuracy: 0.7210\n",
      "└ @ Main In[6]:14\n",
      "┌ Info:  -> New best accuracy! Saving model out to fmnist_flux.bson\n",
      "└ @ Main In[6]:23\n"
     ]
    },
    {
     "name": "stdout",
     "output_type": "stream",
     "text": [
      "862.8768959\n"
     ]
    },
    {
     "name": "stderr",
     "output_type": "stream",
     "text": [
      "┌ Info: [10]: Test accuracy: 0.7224\n",
      "└ @ Main In[6]:14\n",
      "┌ Info:  -> New best accuracy! Saving model out to fmnist_flux.bson\n",
      "└ @ Main In[6]:23\n"
     ]
    },
    {
     "name": "stdout",
     "output_type": "stream",
     "text": [
      "947.4686651\n"
     ]
    },
    {
     "name": "stderr",
     "output_type": "stream",
     "text": [
      "┌ Info: [11]: Test accuracy: 0.7191\n",
      "└ @ Main In[6]:14\n"
     ]
    },
    {
     "name": "stdout",
     "output_type": "stream",
     "text": [
      "1031.7048632\n"
     ]
    },
    {
     "name": "stderr",
     "output_type": "stream",
     "text": [
      "┌ Info: [12]: Test accuracy: 0.7188\n",
      "└ @ Main In[6]:14\n"
     ]
    },
    {
     "name": "stdout",
     "output_type": "stream",
     "text": [
      "1118.7910213\n"
     ]
    },
    {
     "name": "stderr",
     "output_type": "stream",
     "text": [
      "┌ Info: [13]: Test accuracy: 0.7183\n",
      "└ @ Main In[6]:14\n"
     ]
    },
    {
     "name": "stdout",
     "output_type": "stream",
     "text": [
      "1204.0653898\n"
     ]
    },
    {
     "name": "stderr",
     "output_type": "stream",
     "text": [
      "┌ Info: [14]: Test accuracy: 0.7197\n",
      "└ @ Main In[6]:14\n"
     ]
    },
    {
     "name": "stdout",
     "output_type": "stream",
     "text": [
      "1292.711714701\n"
     ]
    },
    {
     "name": "stderr",
     "output_type": "stream",
     "text": [
      "┌ Info: [15]: Test accuracy: 0.7175\n",
      "└ @ Main In[6]:14\n"
     ]
    },
    {
     "name": "stdout",
     "output_type": "stream",
     "text": [
      "1377.480040201\n"
     ]
    },
    {
     "name": "stderr",
     "output_type": "stream",
     "text": [
      "┌ Info: [16]: Test accuracy: 0.7250\n",
      "└ @ Main In[6]:14\n",
      "┌ Info:  -> New best accuracy! Saving model out to fmnist_flux.bson\n",
      "└ @ Main In[6]:23\n"
     ]
    },
    {
     "name": "stdout",
     "output_type": "stream",
     "text": [
      "1464.063865801\n"
     ]
    },
    {
     "name": "stderr",
     "output_type": "stream",
     "text": [
      "┌ Info: [17]: Test accuracy: 0.7248\n",
      "└ @ Main In[6]:14\n"
     ]
    },
    {
     "name": "stdout",
     "output_type": "stream",
     "text": [
      "1549.036699501\n"
     ]
    },
    {
     "name": "stderr",
     "output_type": "stream",
     "text": [
      "┌ Info: [18]: Test accuracy: 0.7211\n",
      "└ @ Main In[6]:14\n"
     ]
    },
    {
     "name": "stdout",
     "output_type": "stream",
     "text": [
      "1633.720768902\n"
     ]
    },
    {
     "name": "stderr",
     "output_type": "stream",
     "text": [
      "┌ Info: [19]: Test accuracy: 0.7184\n",
      "└ @ Main In[6]:14\n"
     ]
    },
    {
     "name": "stdout",
     "output_type": "stream",
     "text": [
      "1735.948451502\n"
     ]
    },
    {
     "name": "stderr",
     "output_type": "stream",
     "text": [
      "┌ Info: [20]: Test accuracy: 0.7186\n",
      "└ @ Main In[6]:14\n"
     ]
    },
    {
     "name": "stdout",
     "output_type": "stream",
     "text": [
      "1903.038503301\n"
     ]
    },
    {
     "name": "stderr",
     "output_type": "stream",
     "text": [
      "┌ Info: [21]: Test accuracy: 0.7166\n",
      "└ @ Main In[6]:14\n"
     ]
    },
    {
     "name": "stdout",
     "output_type": "stream",
     "text": [
      "2065.6680757\n"
     ]
    },
    {
     "name": "stderr",
     "output_type": "stream",
     "text": [
      "┌ Info: [22]: Test accuracy: 0.7221\n",
      "└ @ Main In[6]:14\n"
     ]
    },
    {
     "name": "stdout",
     "output_type": "stream",
     "text": [
      "2231.0625384\n"
     ]
    },
    {
     "name": "stderr",
     "output_type": "stream",
     "text": [
      "┌ Info: [23]: Test accuracy: 0.7214\n",
      "└ @ Main In[6]:14\n"
     ]
    },
    {
     "name": "stdout",
     "output_type": "stream",
     "text": [
      "2396.656911199\n"
     ]
    },
    {
     "name": "stderr",
     "output_type": "stream",
     "text": [
      "┌ Info: [24]: Test accuracy: 0.7158\n",
      "└ @ Main In[6]:14\n"
     ]
    },
    {
     "name": "stdout",
     "output_type": "stream",
     "text": [
      "2561.761726698\n"
     ]
    },
    {
     "name": "stderr",
     "output_type": "stream",
     "text": [
      "┌ Info: [25]: Test accuracy: 0.7214\n",
      "└ @ Main In[6]:14\n"
     ]
    },
    {
     "name": "stdout",
     "output_type": "stream",
     "text": [
      "2730.724183498\n"
     ]
    },
    {
     "name": "stderr",
     "output_type": "stream",
     "text": [
      "┌ Info: [26]: Test accuracy: 0.7191\n",
      "└ @ Main In[6]:14\n"
     ]
    },
    {
     "name": "stdout",
     "output_type": "stream",
     "text": [
      "2888.426339998\n"
     ]
    },
    {
     "name": "stderr",
     "output_type": "stream",
     "text": [
      "┌ Info: [27]: Test accuracy: 0.7242\n",
      "└ @ Main In[6]:14\n"
     ]
    },
    {
     "name": "stdout",
     "output_type": "stream",
     "text": [
      "3053.711927998\n"
     ]
    },
    {
     "name": "stderr",
     "output_type": "stream",
     "text": [
      "┌ Info: [28]: Test accuracy: 0.7159\n",
      "└ @ Main In[6]:14\n"
     ]
    },
    {
     "name": "stdout",
     "output_type": "stream",
     "text": [
      "3218.924178298\n"
     ]
    },
    {
     "name": "stderr",
     "output_type": "stream",
     "text": [
      "┌ Info: [29]: Test accuracy: 0.7186\n",
      "└ @ Main In[6]:14\n"
     ]
    },
    {
     "name": "stdout",
     "output_type": "stream",
     "text": [
      "3384.295225198\n"
     ]
    },
    {
     "name": "stderr",
     "output_type": "stream",
     "text": [
      "┌ Info: [30]: Test accuracy: 0.7194\n",
      "└ @ Main In[6]:14\n"
     ]
    },
    {
     "name": "stdout",
     "output_type": "stream",
     "text": [
      "3546.795807598\n"
     ]
    },
    {
     "name": "stderr",
     "output_type": "stream",
     "text": [
      "┌ Info: [31]: Test accuracy: 0.7209\n",
      "└ @ Main In[6]:14\n",
      "┌ Warning:  -> Haven't improved in a while, dropping learning rate to 0.0001!\n",
      "└ @ Main In[6]:31\n"
     ]
    },
    {
     "name": "stdout",
     "output_type": "stream",
     "text": [
      "3705.591788798\n"
     ]
    },
    {
     "name": "stderr",
     "output_type": "stream",
     "text": [
      "┌ Info: [32]: Test accuracy: 0.7307\n",
      "└ @ Main In[6]:14\n",
      "┌ Info:  -> New best accuracy! Saving model out to fmnist_flux.bson\n",
      "└ @ Main In[6]:23\n"
     ]
    },
    {
     "name": "stdout",
     "output_type": "stream",
     "text": [
      "3864.098632098\n"
     ]
    },
    {
     "name": "stderr",
     "output_type": "stream",
     "text": [
      "┌ Info: [33]: Test accuracy: 0.7309\n",
      "└ @ Main In[6]:14\n",
      "┌ Info:  -> New best accuracy! Saving model out to fmnist_flux.bson\n",
      "└ @ Main In[6]:23\n"
     ]
    },
    {
     "name": "stdout",
     "output_type": "stream",
     "text": [
      "4022.753495397\n"
     ]
    },
    {
     "name": "stderr",
     "output_type": "stream",
     "text": [
      "┌ Info: [34]: Test accuracy: 0.7310\n",
      "└ @ Main In[6]:14\n",
      "┌ Info:  -> New best accuracy! Saving model out to fmnist_flux.bson\n",
      "└ @ Main In[6]:23\n"
     ]
    },
    {
     "name": "stdout",
     "output_type": "stream",
     "text": [
      "4185.281503497\n"
     ]
    },
    {
     "name": "stderr",
     "output_type": "stream",
     "text": [
      "┌ Info: [35]: Test accuracy: 0.7294\n",
      "└ @ Main In[6]:14\n"
     ]
    },
    {
     "name": "stdout",
     "output_type": "stream",
     "text": [
      "4332.523490697\n"
     ]
    },
    {
     "name": "stderr",
     "output_type": "stream",
     "text": [
      "┌ Info: [36]: Test accuracy: 0.7298\n",
      "└ @ Main In[6]:14\n"
     ]
    },
    {
     "name": "stdout",
     "output_type": "stream",
     "text": [
      "4481.257805997\n"
     ]
    },
    {
     "name": "stderr",
     "output_type": "stream",
     "text": [
      "┌ Info: [37]: Test accuracy: 0.7296\n",
      "└ @ Main In[6]:14\n"
     ]
    },
    {
     "name": "stdout",
     "output_type": "stream",
     "text": [
      "4627.256208697\n"
     ]
    },
    {
     "name": "stderr",
     "output_type": "stream",
     "text": [
      "┌ Info: [38]: Test accuracy: 0.7298\n",
      "└ @ Main In[6]:14\n"
     ]
    },
    {
     "name": "stdout",
     "output_type": "stream",
     "text": [
      "4774.049273496\n"
     ]
    },
    {
     "name": "stderr",
     "output_type": "stream",
     "text": [
      "┌ Info: [39]: Test accuracy: 0.7290\n",
      "└ @ Main In[6]:14\n"
     ]
    },
    {
     "name": "stdout",
     "output_type": "stream",
     "text": [
      "4863.594029196\n"
     ]
    },
    {
     "name": "stderr",
     "output_type": "stream",
     "text": [
      "┌ Info: [40]: Test accuracy: 0.7293\n",
      "└ @ Main In[6]:14\n"
     ]
    },
    {
     "name": "stdout",
     "output_type": "stream",
     "text": [
      "4946.587481395\n"
     ]
    },
    {
     "name": "stderr",
     "output_type": "stream",
     "text": [
      "┌ Info: [41]: Test accuracy: 0.7297\n",
      "└ @ Main In[6]:14\n"
     ]
    },
    {
     "name": "stdout",
     "output_type": "stream",
     "text": [
      "5029.790838996\n"
     ]
    },
    {
     "name": "stderr",
     "output_type": "stream",
     "text": [
      "┌ Info: [42]: Test accuracy: 0.7281\n",
      "└ @ Main In[6]:14\n"
     ]
    },
    {
     "name": "stdout",
     "output_type": "stream",
     "text": [
      "5112.792836195\n"
     ]
    },
    {
     "name": "stderr",
     "output_type": "stream",
     "text": [
      "┌ Info: [43]: Test accuracy: 0.7290\n",
      "└ @ Main In[6]:14\n"
     ]
    },
    {
     "name": "stdout",
     "output_type": "stream",
     "text": [
      "5195.511404095\n"
     ]
    },
    {
     "name": "stderr",
     "output_type": "stream",
     "text": [
      "┌ Info: [44]: Test accuracy: 0.7291\n",
      "└ @ Main In[6]:14\n"
     ]
    },
    {
     "name": "stdout",
     "output_type": "stream",
     "text": [
      "5278.021792795\n"
     ]
    },
    {
     "name": "stderr",
     "output_type": "stream",
     "text": [
      "┌ Info: [45]: Test accuracy: 0.7296\n",
      "└ @ Main In[6]:14\n"
     ]
    },
    {
     "name": "stdout",
     "output_type": "stream",
     "text": [
      "5361.827755694\n"
     ]
    },
    {
     "name": "stderr",
     "output_type": "stream",
     "text": [
      "┌ Info: [46]: Test accuracy: 0.7308\n",
      "└ @ Main In[6]:14\n"
     ]
    },
    {
     "name": "stdout",
     "output_type": "stream",
     "text": [
      "5446.289305794\n"
     ]
    },
    {
     "name": "stderr",
     "output_type": "stream",
     "text": [
      "┌ Info: [47]: Test accuracy: 0.7300\n",
      "└ @ Main In[6]:14\n"
     ]
    },
    {
     "name": "stdout",
     "output_type": "stream",
     "text": [
      "5531.293768593\n"
     ]
    },
    {
     "name": "stderr",
     "output_type": "stream",
     "text": [
      "┌ Info: [48]: Test accuracy: 0.7294\n",
      "└ @ Main In[6]:14\n"
     ]
    },
    {
     "name": "stdout",
     "output_type": "stream",
     "text": [
      "5616.547103794\n"
     ]
    },
    {
     "name": "stderr",
     "output_type": "stream",
     "text": [
      "┌ Info: [49]: Test accuracy: 0.7316\n",
      "└ @ Main In[6]:14\n",
      "┌ Info:  -> New best accuracy! Saving model out to fmnist_flux.bson\n",
      "└ @ Main In[6]:23\n"
     ]
    },
    {
     "name": "stdout",
     "output_type": "stream",
     "text": [
      "5703.114575595\n"
     ]
    },
    {
     "name": "stderr",
     "output_type": "stream",
     "text": [
      "┌ Info: [50]: Test accuracy: 0.7312\n",
      "└ @ Main In[6]:14\n"
     ]
    },
    {
     "name": "stdout",
     "output_type": "stream",
     "text": [
      "5788.996474295\n"
     ]
    },
    {
     "name": "stderr",
     "output_type": "stream",
     "text": [
      "┌ Info: [51]: Test accuracy: 0.7300\n",
      "└ @ Main In[6]:14\n"
     ]
    },
    {
     "name": "stdout",
     "output_type": "stream",
     "text": [
      "5931.497084196\n"
     ]
    },
    {
     "name": "stderr",
     "output_type": "stream",
     "text": [
      "┌ Info: [52]: Test accuracy: 0.7300\n",
      "└ @ Main In[6]:14\n"
     ]
    },
    {
     "name": "stdout",
     "output_type": "stream",
     "text": [
      "6110.474124895\n"
     ]
    },
    {
     "name": "stderr",
     "output_type": "stream",
     "text": [
      "┌ Info: [53]: Test accuracy: 0.7291\n",
      "└ @ Main In[6]:14\n"
     ]
    },
    {
     "name": "stdout",
     "output_type": "stream",
     "text": [
      "6276.605818995\n"
     ]
    },
    {
     "name": "stderr",
     "output_type": "stream",
     "text": [
      "┌ Info: [54]: Test accuracy: 0.7291\n",
      "└ @ Main In[6]:14\n"
     ]
    },
    {
     "name": "stdout",
     "output_type": "stream",
     "text": [
      "6434.991721794\n"
     ]
    },
    {
     "name": "stderr",
     "output_type": "stream",
     "text": [
      "┌ Info: [55]: Test accuracy: 0.7295\n",
      "└ @ Main In[6]:14\n"
     ]
    },
    {
     "name": "stdout",
     "output_type": "stream",
     "text": [
      "6537.844718594\n"
     ]
    },
    {
     "name": "stderr",
     "output_type": "stream",
     "text": [
      "┌ Info: [56]: Test accuracy: 0.7287\n",
      "└ @ Main In[6]:14\n"
     ]
    },
    {
     "name": "stdout",
     "output_type": "stream",
     "text": [
      "6690.171750094\n"
     ]
    },
    {
     "name": "stderr",
     "output_type": "stream",
     "text": [
      "┌ Info: [57]: Test accuracy: 0.7271\n",
      "└ @ Main In[6]:14\n"
     ]
    },
    {
     "name": "stdout",
     "output_type": "stream",
     "text": [
      "6842.497078294\n"
     ]
    },
    {
     "name": "stderr",
     "output_type": "stream",
     "text": [
      "┌ Info: [58]: Test accuracy: 0.7291\n",
      "└ @ Main In[6]:14\n"
     ]
    },
    {
     "name": "stdout",
     "output_type": "stream",
     "text": [
      "6986.831183194\n"
     ]
    },
    {
     "name": "stderr",
     "output_type": "stream",
     "text": [
      "┌ Info: [59]: Test accuracy: 0.7288\n",
      "└ @ Main In[6]:14\n"
     ]
    },
    {
     "name": "stdout",
     "output_type": "stream",
     "text": [
      "7125.190337795\n"
     ]
    },
    {
     "name": "stderr",
     "output_type": "stream",
     "text": [
      "┌ Info: [60]: Test accuracy: 0.7300\n",
      "└ @ Main In[6]:14\n"
     ]
    },
    {
     "name": "stdout",
     "output_type": "stream",
     "text": [
      "7264.052668295\n"
     ]
    },
    {
     "name": "stderr",
     "output_type": "stream",
     "text": [
      "┌ Info: [61]: Test accuracy: 0.7307\n",
      "└ @ Main In[6]:14\n"
     ]
    },
    {
     "name": "stdout",
     "output_type": "stream",
     "text": [
      "7410.103209495\n"
     ]
    },
    {
     "name": "stderr",
     "output_type": "stream",
     "text": [
      "┌ Info: [62]: Test accuracy: 0.7288\n",
      "└ @ Main In[6]:14\n"
     ]
    },
    {
     "name": "stdout",
     "output_type": "stream",
     "text": [
      "7551.185552395\n"
     ]
    },
    {
     "name": "stderr",
     "output_type": "stream",
     "text": [
      "┌ Info: [63]: Test accuracy: 0.7291\n",
      "└ @ Main In[6]:14\n"
     ]
    },
    {
     "name": "stdout",
     "output_type": "stream",
     "text": [
      "7695.087532396\n"
     ]
    },
    {
     "name": "stderr",
     "output_type": "stream",
     "text": [
      "┌ Info: [64]: Test accuracy: 0.7291\n",
      "└ @ Main In[6]:14\n",
      "┌ Warning:  -> Haven't improved in a while, dropping learning rate to 1.0e-5!\n",
      "└ @ Main In[6]:31\n"
     ]
    },
    {
     "name": "stdout",
     "output_type": "stream",
     "text": [
      "7836.014751196\n"
     ]
    },
    {
     "name": "stderr",
     "output_type": "stream",
     "text": [
      "┌ Info: [65]: Test accuracy: 0.7283\n",
      "└ @ Main In[6]:14\n"
     ]
    },
    {
     "name": "stdout",
     "output_type": "stream",
     "text": [
      "7975.258991297\n"
     ]
    },
    {
     "name": "stderr",
     "output_type": "stream",
     "text": [
      "┌ Info: [66]: Test accuracy: 0.7280\n",
      "└ @ Main In[6]:14\n"
     ]
    },
    {
     "name": "stdout",
     "output_type": "stream",
     "text": [
      "8103.636392597\n"
     ]
    },
    {
     "name": "stderr",
     "output_type": "stream",
     "text": [
      "┌ Info: [67]: Test accuracy: 0.7274\n",
      "└ @ Main In[6]:14\n"
     ]
    },
    {
     "name": "stdout",
     "output_type": "stream",
     "text": [
      "8237.871211597\n"
     ]
    },
    {
     "name": "stderr",
     "output_type": "stream",
     "text": [
      "┌ Info: [68]: Test accuracy: 0.7284\n",
      "└ @ Main In[6]:14\n"
     ]
    },
    {
     "name": "stdout",
     "output_type": "stream",
     "text": [
      "8377.822132796\n"
     ]
    },
    {
     "name": "stderr",
     "output_type": "stream",
     "text": [
      "┌ Info: [69]: Test accuracy: 0.7283\n",
      "└ @ Main In[6]:14\n"
     ]
    },
    {
     "name": "stdout",
     "output_type": "stream",
     "text": [
      "8519.502455496\n"
     ]
    },
    {
     "name": "stderr",
     "output_type": "stream",
     "text": [
      "┌ Info: [70]: Test accuracy: 0.7281\n",
      "└ @ Main In[6]:14\n"
     ]
    },
    {
     "name": "stdout",
     "output_type": "stream",
     "text": [
      "8668.531965696\n"
     ]
    },
    {
     "name": "stderr",
     "output_type": "stream",
     "text": [
      "┌ Info: [71]: Test accuracy: 0.7281\n",
      "└ @ Main In[6]:14\n"
     ]
    },
    {
     "name": "stdout",
     "output_type": "stream",
     "text": [
      "8820.021408596\n"
     ]
    },
    {
     "name": "stderr",
     "output_type": "stream",
     "text": [
      "┌ Info: [72]: Test accuracy: 0.7282\n",
      "└ @ Main In[6]:14\n"
     ]
    },
    {
     "name": "stdout",
     "output_type": "stream",
     "text": [
      "8972.208271897\n"
     ]
    },
    {
     "name": "stderr",
     "output_type": "stream",
     "text": [
      "┌ Info: [73]: Test accuracy: 0.7284\n",
      "└ @ Main In[6]:14\n"
     ]
    },
    {
     "name": "stdout",
     "output_type": "stream",
     "text": [
      "9100.730591198\n"
     ]
    },
    {
     "name": "stderr",
     "output_type": "stream",
     "text": [
      "┌ Info: [74]: Test accuracy: 0.7281\n",
      "└ @ Main In[6]:14\n"
     ]
    },
    {
     "name": "stdout",
     "output_type": "stream",
     "text": [
      "9231.975302398\n"
     ]
    },
    {
     "name": "stderr",
     "output_type": "stream",
     "text": [
      "┌ Info: [75]: Test accuracy: 0.7277\n",
      "└ @ Main In[6]:14\n"
     ]
    },
    {
     "name": "stdout",
     "output_type": "stream",
     "text": [
      "9367.282362198\n"
     ]
    },
    {
     "name": "stderr",
     "output_type": "stream",
     "text": [
      "┌ Info: [76]: Test accuracy: 0.7280\n",
      "└ @ Main In[6]:14\n"
     ]
    },
    {
     "name": "stdout",
     "output_type": "stream",
     "text": [
      "9495.353638599\n"
     ]
    },
    {
     "name": "stderr",
     "output_type": "stream",
     "text": [
      "┌ Info: [77]: Test accuracy: 0.7282\n",
      "└ @ Main In[6]:14\n"
     ]
    },
    {
     "name": "stdout",
     "output_type": "stream",
     "text": [
      "9630.440631799\n"
     ]
    },
    {
     "name": "stderr",
     "output_type": "stream",
     "text": [
      "┌ Info: [78]: Test accuracy: 0.7277\n",
      "└ @ Main In[6]:14\n"
     ]
    },
    {
     "name": "stdout",
     "output_type": "stream",
     "text": [
      "9769.775296198\n"
     ]
    },
    {
     "name": "stderr",
     "output_type": "stream",
     "text": [
      "┌ Info: [79]: Test accuracy: 0.7282\n",
      "└ @ Main In[6]:14\n",
      "┌ Warning:  -> Haven't improved in a while, dropping learning rate to 1.0000000000000002e-6!\n",
      "└ @ Main In[6]:31\n"
     ]
    },
    {
     "name": "stdout",
     "output_type": "stream",
     "text": [
      "9919.344010098\n"
     ]
    },
    {
     "name": "stderr",
     "output_type": "stream",
     "text": [
      "┌ Info: [80]: Test accuracy: 0.7278\n",
      "└ @ Main In[6]:14\n"
     ]
    },
    {
     "name": "stdout",
     "output_type": "stream",
     "text": [
      "10086.310693398\n"
     ]
    },
    {
     "name": "stderr",
     "output_type": "stream",
     "text": [
      "┌ Info: [81]: Test accuracy: 0.7279\n",
      "└ @ Main In[6]:14\n"
     ]
    },
    {
     "name": "stdout",
     "output_type": "stream",
     "text": [
      "10226.405282998\n"
     ]
    },
    {
     "name": "stderr",
     "output_type": "stream",
     "text": [
      "┌ Info: [82]: Test accuracy: 0.7277\n",
      "└ @ Main In[6]:14\n"
     ]
    },
    {
     "name": "stdout",
     "output_type": "stream",
     "text": [
      "10350.009525098\n"
     ]
    },
    {
     "name": "stderr",
     "output_type": "stream",
     "text": [
      "┌ Info: [83]: Test accuracy: 0.7277\n",
      "└ @ Main In[6]:14\n"
     ]
    },
    {
     "name": "stdout",
     "output_type": "stream",
     "text": [
      "10432.972572998\n"
     ]
    },
    {
     "name": "stderr",
     "output_type": "stream",
     "text": [
      "┌ Info: [84]: Test accuracy: 0.7276\n",
      "└ @ Main In[6]:14\n"
     ]
    },
    {
     "name": "stdout",
     "output_type": "stream",
     "text": [
      "10515.859137298\n"
     ]
    },
    {
     "name": "stderr",
     "output_type": "stream",
     "text": [
      "┌ Info: [85]: Test accuracy: 0.7279\n",
      "└ @ Main In[6]:14\n"
     ]
    },
    {
     "name": "stdout",
     "output_type": "stream",
     "text": [
      "10599.251768097\n"
     ]
    },
    {
     "name": "stderr",
     "output_type": "stream",
     "text": [
      "┌ Info: [86]: Test accuracy: 0.7278\n",
      "└ @ Main In[6]:14\n"
     ]
    },
    {
     "name": "stdout",
     "output_type": "stream",
     "text": [
      "10682.560009098\n"
     ]
    },
    {
     "name": "stderr",
     "output_type": "stream",
     "text": [
      "┌ Info: [87]: Test accuracy: 0.7279\n",
      "└ @ Main In[6]:14\n"
     ]
    },
    {
     "name": "stdout",
     "output_type": "stream",
     "text": [
      "10766.275531197\n"
     ]
    },
    {
     "name": "stderr",
     "output_type": "stream",
     "text": [
      "┌ Info: [88]: Test accuracy: 0.7279\n",
      "└ @ Main In[6]:14\n"
     ]
    },
    {
     "name": "stdout",
     "output_type": "stream",
     "text": [
      "10849.323894797\n"
     ]
    },
    {
     "name": "stderr",
     "output_type": "stream",
     "text": [
      "┌ Info: [89]: Test accuracy: 0.7277\n",
      "└ @ Main In[6]:14\n"
     ]
    },
    {
     "name": "stdout",
     "output_type": "stream",
     "text": [
      "10934.484979598\n"
     ]
    },
    {
     "name": "stderr",
     "output_type": "stream",
     "text": [
      "┌ Info: [90]: Test accuracy: 0.7277\n",
      "└ @ Main In[6]:14\n"
     ]
    },
    {
     "name": "stdout",
     "output_type": "stream",
     "text": [
      "11024.546242198\n"
     ]
    },
    {
     "name": "stderr",
     "output_type": "stream",
     "text": [
      "┌ Info: [91]: Test accuracy: 0.7278\n",
      "└ @ Main In[6]:14\n"
     ]
    },
    {
     "name": "stdout",
     "output_type": "stream",
     "text": [
      "11107.246617797\n"
     ]
    },
    {
     "name": "stderr",
     "output_type": "stream",
     "text": [
      "┌ Info: [92]: Test accuracy: 0.7278\n",
      "└ @ Main In[6]:14\n"
     ]
    },
    {
     "name": "stdout",
     "output_type": "stream",
     "text": [
      "11190.337343897\n"
     ]
    },
    {
     "name": "stderr",
     "output_type": "stream",
     "text": [
      "┌ Info: [93]: Test accuracy: 0.7277\n",
      "└ @ Main In[6]:14\n"
     ]
    },
    {
     "name": "stdout",
     "output_type": "stream",
     "text": [
      "11275.413123296\n"
     ]
    },
    {
     "name": "stderr",
     "output_type": "stream",
     "text": [
      "┌ Info: [94]: Test accuracy: 0.7277\n",
      "└ @ Main In[6]:14\n",
      "┌ Warning:  -> Haven't improved in a while, dropping learning rate to 1.0000000000000002e-7!\n",
      "└ @ Main In[6]:31\n"
     ]
    },
    {
     "name": "stdout",
     "output_type": "stream",
     "text": [
      "11364.359599896\n"
     ]
    },
    {
     "name": "stderr",
     "output_type": "stream",
     "text": [
      "┌ Info: [95]: Test accuracy: 0.7277\n",
      "└ @ Main In[6]:14\n"
     ]
    },
    {
     "name": "stdout",
     "output_type": "stream",
     "text": [
      "11449.792366397\n"
     ]
    },
    {
     "name": "stderr",
     "output_type": "stream",
     "text": [
      "┌ Info: [96]: Test accuracy: 0.7277\n",
      "└ @ Main In[6]:14\n"
     ]
    },
    {
     "name": "stdout",
     "output_type": "stream",
     "text": [
      "11534.143077696\n"
     ]
    },
    {
     "name": "stderr",
     "output_type": "stream",
     "text": [
      "┌ Info: [97]: Test accuracy: 0.7277\n",
      "└ @ Main In[6]:14\n"
     ]
    },
    {
     "name": "stdout",
     "output_type": "stream",
     "text": [
      "11618.230382796\n"
     ]
    },
    {
     "name": "stderr",
     "output_type": "stream",
     "text": [
      "┌ Info: [98]: Test accuracy: 0.7277\n",
      "└ @ Main In[6]:14\n"
     ]
    },
    {
     "name": "stdout",
     "output_type": "stream",
     "text": [
      "11702.651708896\n"
     ]
    },
    {
     "name": "stderr",
     "output_type": "stream",
     "text": [
      "┌ Info: [99]: Test accuracy: 0.7277\n",
      "└ @ Main In[6]:14\n"
     ]
    },
    {
     "name": "stdout",
     "output_type": "stream",
     "text": [
      "11789.689309796\n"
     ]
    },
    {
     "name": "stderr",
     "output_type": "stream",
     "text": [
      "┌ Info: [100]: Test accuracy: 0.7277\n",
      "└ @ Main In[6]:14\n"
     ]
    }
   ],
   "source": [
    "time = 0.0\n",
    "\n",
    "for epoch in 1:epoch_num\n",
    "    global best_acc, last_improvement\n",
    "    \n",
    "    tic = time_ns()\n",
    "    # Train for a single epoch\n",
    "    Flux.train!(loss, params(ConvNet), trainset, optimiser)\n",
    "    toc = time_ns()\n",
    "    time += toc-tic\n",
    "    println(time/1.0e9)\n",
    "    # Calculate accuracy:\n",
    "    acc = accuracy(testset...)\n",
    "    @info(@sprintf(\"[%d]: Test accuracy: %.4f\", epoch, acc))\n",
    "\n",
    "    # Early exit at 95% accuracy\n",
    "    if acc >= threshold\n",
    "        @info(\" -> Early-exiting: We reached our target accuracy of 90.0%\")\n",
    "        break\n",
    "    end\n",
    "\n",
    "    if acc >= best_acc\n",
    "        @info(\" -> New best accuracy! Saving model out to fmnist_flux.bson\")\n",
    "        BSON.@save joinpath(\"fmnist_flux_4.bson\") ConvNet epoch acc\n",
    "        best_acc, last_improvement = acc, epoch\n",
    "    end\n",
    "\n",
    "    # Learning rate decay to dampen oscillations\n",
    "    if epoch - last_improvement >= 15 && optimiser.eta > 1e-06 #1e-06\n",
    "        optimiser.eta /= 10.0\n",
    "        @warn(\" -> Haven't improved in a while, dropping learning rate to $(optimiser.eta)!\")\n",
    "        last_improvement = epoch\n",
    "    end\n",
    "    \n",
    "    if epoch - last_improvement >= 25\n",
    "        @warn(\" -> We're calling this converged.\")\n",
    "        break\n",
    "    end\n",
    "end"
   ]
  },
  {
   "cell_type": "code",
   "execution_count": 7,
   "metadata": {},
   "outputs": [
    {
     "name": "stdout",
     "output_type": "stream",
     "text": [
      "11789.689309796"
     ]
    }
   ],
   "source": [
    "time /= 1.0e9\n",
    "print(time)"
   ]
  },
  {
   "cell_type": "code",
   "execution_count": null,
   "metadata": {},
   "outputs": [],
   "source": []
  },
  {
   "cell_type": "code",
   "execution_count": null,
   "metadata": {},
   "outputs": [],
   "source": []
  }
 ],
 "metadata": {
  "kernelspec": {
   "display_name": "Julia 1.3.0",
   "language": "julia",
   "name": "julia-1.3"
  },
  "language_info": {
   "file_extension": ".jl",
   "mimetype": "application/julia",
   "name": "julia",
   "version": "1.3.0"
  }
 },
 "nbformat": 4,
 "nbformat_minor": 2
}
