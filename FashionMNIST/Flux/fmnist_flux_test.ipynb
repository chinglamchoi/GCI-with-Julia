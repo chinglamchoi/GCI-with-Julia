{
 "cells": [
  {
   "cell_type": "code",
   "execution_count": 1,
   "metadata": {},
   "outputs": [],
   "source": [
    "using MLDatasets\n",
    "using Flux, Statistics\n",
    "using Flux: onehotbatch, onecold\n",
    "using BSON: @load"
   ]
  },
  {
   "cell_type": "code",
   "execution_count": 2,
   "metadata": {},
   "outputs": [
    {
     "data": {
      "text/plain": [
       "mb (generic function with 1 method)"
      ]
     },
     "execution_count": 2,
     "metadata": {},
     "output_type": "execute_result"
    }
   ],
   "source": [
    "test_x, test_y = FashionMNIST.testdata()\n",
    "test_x = [test_x[:, :, i] for i in 1:size(test_x,3)]\n",
    "\n",
    "function mb(img, label, indexx) \n",
    "    mb_x = Array{Float32}(undef, size(img[1])..., 1, length(indexx)) # placeholder\n",
    "    for i in 1:length(indexx)\n",
    "        mb_x[:, :, :, i] = Float32.(img[indexx[i]]) # Asigns images into batches of 64\n",
    "    end\n",
    "    # This encodes labels into one-hot vector representation\n",
    "    mb_y = onehotbatch(label[indexx], 0:9)\n",
    "    return (mb_x, mb_y)\n",
    "end"
   ]
  },
  {
   "cell_type": "code",
   "execution_count": 3,
   "metadata": {},
   "outputs": [
    {
     "data": {
      "text/plain": [
       "Chain(Conv((3, 3), 1=>16, relu), MaxPool((2, 2), pad = (0, 0, 0, 0), stride = (2, 2)), Conv((3, 3), 16=>32, relu), MaxPool((2, 2), pad = (0, 0, 0, 0), stride = (2, 2)), Conv((3, 3), 32=>64, relu), MaxPool((2, 2), pad = (0, 0, 0, 0), stride = (2, 2)), #5, Dense(576, 72), #6, Dense(72, 10), #7, softmax)"
      ]
     },
     "execution_count": 3,
     "metadata": {},
     "output_type": "execute_result"
    }
   ],
   "source": [
    "ConvNet = Chain(\n",
    "    Conv((3, 3), 1=>16, pad=(1,1), relu),\n",
    "    MaxPool((2,2), stride=(2,2)),\n",
    "    Conv((3, 3), 16=>32, pad=(1,1), relu),\n",
    "    MaxPool((2,2), stride=(2,2)),\n",
    "    Conv((3, 3), 32=>64, pad=(1,1), relu),\n",
    "    MaxPool((2,2), stride=(2,2)),\n",
    "    x -> reshape(x, :, size(x, 4)),\n",
    "    Dense(576, 72),\n",
    "    x -> relu.(x),\n",
    "    Dense(72, 10),\n",
    "    x -> relu.(x),\n",
    "    softmax)"
   ]
  },
  {
   "cell_type": "code",
   "execution_count": 34,
   "metadata": {},
   "outputs": [],
   "source": [
    "@load \"fmnist_flux_3.bson\" (ConvNet)\n",
    "# Flux.loadparams!(ConvNet)"
   ]
  },
  {
   "cell_type": "code",
   "execution_count": 35,
   "metadata": {},
   "outputs": [
    {
     "data": {
      "text/plain": [
       "accuracy (generic function with 1 method)"
      ]
     },
     "execution_count": 35,
     "metadata": {},
     "output_type": "execute_result"
    }
   ],
   "source": [
    "mb_size = 64\n",
    "testset = mb(test_x, test_y, 1:length(test_x))\n",
    "accuracy(x, y) = mean(onecold(ConvNet(x)) .== onecold(y))"
   ]
  },
  {
   "cell_type": "code",
   "execution_count": 38,
   "metadata": {
    "scrolled": true
   },
   "outputs": [
    {
     "name": "stdout",
     "output_type": "stream",
     "text": [
      "The test accuracy is 0.8149"
     ]
    }
   ],
   "source": [
    "acc = accuracy(testset...)\n",
    "print(\"The test accuracy is \", acc)"
   ]
  },
  {
   "cell_type": "code",
   "execution_count": null,
   "metadata": {},
   "outputs": [],
   "source": []
  }
 ],
 "metadata": {
  "kernelspec": {
   "display_name": "Julia 1.3.0",
   "language": "julia",
   "name": "julia-1.3"
  },
  "language_info": {
   "file_extension": ".jl",
   "mimetype": "application/julia",
   "name": "julia",
   "version": "1.3.0"
  }
 },
 "nbformat": 4,
 "nbformat_minor": 2
}
